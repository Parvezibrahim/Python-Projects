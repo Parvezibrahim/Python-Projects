{
  "nbformat": 4,
  "nbformat_minor": 0,
  "metadata": {
    "colab": {
      "name": "Rock_Paper_Scissors.ipynb",
      "provenance": [],
      "collapsed_sections": [],
      "authorship_tag": "ABX9TyNlnYvSeJovIpqpJCRmlAZy",
      "include_colab_link": true
    },
    "kernelspec": {
      "name": "python3",
      "display_name": "Python 3"
    },
    "language_info": {
      "name": "python"
    }
  },
  "cells": [
    {
      "cell_type": "markdown",
      "metadata": {
        "id": "view-in-github",
        "colab_type": "text"
      },
      "source": [
        "<a href=\"https://colab.research.google.com/github/Parvezibrahim/Python-Projects/blob/main/Rock_Paper_Scissors.ipynb\" target=\"_parent\"><img src=\"https://colab.research.google.com/assets/colab-badge.svg\" alt=\"Open In Colab\"/></a>"
      ]
    },
    {
      "cell_type": "code",
      "metadata": {
        "id": "5xA-awEwW0dD"
      },
      "source": [
        "#Description : Rock , Paper , Scissors Program"
      ],
      "execution_count": null,
      "outputs": []
    },
    {
      "cell_type": "code",
      "metadata": {
        "id": "v811Lf9FXNZn"
      },
      "source": [
        "#Import the Libraries\n",
        "import random"
      ],
      "execution_count": 2,
      "outputs": []
    },
    {
      "cell_type": "code",
      "metadata": {
        "id": "KTxAkcpzXxGW"
      },
      "source": [
        "choices = [\"R\",\"P\",\"S\"]"
      ],
      "execution_count": 12,
      "outputs": []
    },
    {
      "cell_type": "code",
      "metadata": {
        "id": "D29AP_t0X9dq"
      },
      "source": [
        "def get_choice(input):\n",
        "  if input == \"R\":\n",
        "    return \"Rock\"\n",
        "  elif input == \"P\"  :\n",
        "    return \"Paper\"\n",
        "  elif input == \"S\":\n",
        "    return \"Scissors\"  \n",
        "  else :\n",
        "    return \"Not [R, P , or S]\"\n",
        "  "
      ],
      "execution_count": 13,
      "outputs": []
    },
    {
      "cell_type": "code",
      "metadata": {
        "id": "t9HSHX0WYfOZ",
        "colab": {
          "base_uri": "https://localhost:8080/"
        },
        "outputId": "63d354c0-27f7-4a4a-e635-5eb285e4381a"
      },
      "source": [
        "print(\"Rock, Paper , Scissors -  Shoot!\")\n",
        "print('[R]=Rock , [P]=Papers [S]=Scissors and [Q]=Quit')\n",
        "counter = 1\n",
        "\n",
        "\n",
        "while True :\n",
        "\n",
        "  print('Game ' +str(counter)+ ':')\n",
        "  print('Please choose a letter:')\n",
        "  user_choice = input()\n",
        "  if user_choice == \"Q\" :\n",
        "    print('Thanks for Playing  !')\n",
        "    break;\n",
        "\n",
        "  random_index = random.randint(0,2)\n",
        "  computer_choice = choices[random_index]\n",
        "\n",
        "  print('You choose ' +get_choice(user_choice)+' The computer choose ' +get_choice(computer_choice))\n",
        "\n",
        "  if user_choice == 'R' and computer_choice =='S':\n",
        "    print('You win,Rock beats Scissors')\n",
        "  elif user_choice == 'P' and computer_choice == 'R'  :\n",
        "    print('You win, Paper beats Rock')\n",
        "  elif user_choice == 'S' and computer_choice == 'P' :\n",
        "    print('You win , Scissors beat Paper')  \n",
        "  elif user_choice == 'R' and computer_choice == 'P' :\n",
        "    print('Computer wins, Paper beats Rock')  \n",
        "  elif user_choice == 'P' and computer_choice == 'S' :\n",
        "    print('Computer wins, Scissors beats Paper')    \n",
        "  elif user_choice == 'S' and computer_choice == 'R' :\n",
        "    print('Computer wins, Rock beats Scissors')\n",
        "  elif user_choice == computer_choice :\n",
        "    print('Its a Tie !')\n",
        "  else :\n",
        "    print('Please enter [R,P,S or Q')\n",
        "\n",
        "  counter = counter + 1\n",
        "  print('\\n')        "
      ],
      "execution_count": 18,
      "outputs": [
        {
          "output_type": "stream",
          "text": [
            "Rock, Paper , Scissors -  Shoot!\n",
            "[R]=Rock , [P]=Papers [S]=Scissors and [Q]=Quit\n",
            "Game 1:\n",
            "Please choose a letter:\n",
            "\\r\n",
            "You choose Not [R, P , or S] The computer choose Scissors\n",
            "Please enter [R,P,S or Q\n",
            "\n",
            "\n",
            "Game 2:\n",
            "Please choose a letter:\n",
            "R\n",
            "You choose Rock The computer choose Paper\n",
            "Computer wins, Paper beats Rock\n",
            "\n",
            "\n",
            "Game 3:\n",
            "Please choose a letter:\n",
            "Q\n",
            "Thanks for Playing  !\n"
          ],
          "name": "stdout"
        }
      ]
    }
  ]
}